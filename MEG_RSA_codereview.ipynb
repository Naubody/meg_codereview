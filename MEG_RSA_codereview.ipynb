{
 "cells": [
  {
   "cell_type": "code",
   "execution_count": 7,
   "metadata": {},
   "outputs": [],
   "source": [
    "import numpy as np\n",
    "import os\n",
    "import numpy.ma as ma\n",
    "import matplotlib.pyplot as plt\n",
    "from matplotlib import animation\n",
    "import pickle\n",
    "from itertools import combinations\n",
    "from scipy import stats"
   ]
  },
  {
   "cell_type": "markdown",
   "metadata": {},
   "source": [
    "Read in the decoding score data"
   ]
  },
  {
   "cell_type": "code",
   "execution_count": 3,
   "metadata": {},
   "outputs": [
    {
     "name": "stdout",
     "output_type": "stream",
     "text": [
      "7750\n"
     ]
    }
   ],
   "source": [
    "#read in decoding accuracy scores\n",
    "\n",
    "#set up directory to read in decoding scores\n",
    "S = 'S03'\n",
    "rootdir = os.getcwd()\n",
    "outdir = rootdir + '/plots'\n",
    "in_filepath = rootdir + '/' + S + '_IMbased_allscores.pkl'\n",
    "\n",
    "#load scores from the pickle file into all_scores, a dictionary of the following format: \n",
    "# key: tuple of two trial codes representing a pair of images ex. (1,2)\n",
    "# value: a 1x1081 list of decoding scores at each timepoint\n",
    "in_file = open(in_filepath,'rb')\n",
    "all_scores = pickle.load(in_file)\n",
    "in_file.close()\n",
    "\n",
    "#all_scores has 7750 entries, representing every pair of images 1-125\n",
    "print(len(all_scores))"
   ]
  },
  {
   "cell_type": "markdown",
   "metadata": {},
   "source": [
    "Build the MEG RDM"
   ]
  },
  {
   "cell_type": "code",
   "execution_count": 49,
   "metadata": {},
   "outputs": [
    {
     "name": "stdout",
     "output_type": "stream",
     "text": [
      "0.65\n"
     ]
    },
    {
     "data": {
      "text/plain": [
       "<matplotlib.colorbar.Colorbar at 0x7fb970efa400>"
      ]
     },
     "execution_count": 49,
     "metadata": {},
     "output_type": "execute_result"
    }
   ],
   "source": [
    "#convert the all_scores dictionary to a 3D numpy array (MEG RDM)\n",
    "#only fills in the upper triangle, off diagonal\n",
    "\n",
    "nrows = 125\n",
    "nsamples = len(all_scores[1,2])\n",
    "\n",
    "#initialize a numpy array of zeros, size: 125x125x1081\n",
    "rdm_meg = np.zeros((nrows,nrows,nsamples))\n",
    "\n",
    "#iterate through each entry in all_scores\n",
    "for key,value in all_scores.items():\n",
    "\n",
    "    #each key dictates the row and column number we want\n",
    "    row = key[0] - 1\n",
    "    col = key[1] - 1\n",
    "\n",
    "    #fill in the corresponding list of decoding accuracies in symmetric positions in the array\n",
    "    rdm_meg[row,col] = value\n",
    "    rdm_meg[col,row] = value\n",
    "\n",
    "print(rdm_meg[0,124,0])\n",
    "\n",
    "\n",
    "#plot a single snapshot of the MEG RDM\n",
    "plt.imshow(rdm_meg[:,:,540])\n",
    "plt.title('MEG RDM at ~350 ms')\n",
    "plt.colorbar()\n",
    "\n"
   ]
  },
  {
   "cell_type": "markdown",
   "metadata": {},
   "source": [
    "plot the MEG RDM "
   ]
  },
  {
   "cell_type": "code",
   "execution_count": 44,
   "metadata": {},
   "outputs": [],
   "source": [
    "#Use animation feature to visualize RDM over time\n",
    "fig = plt.figure()\n",
    "\n",
    "def animate(i):\n",
    "    plt.imshow(rdm_meg[:,:,i])\n",
    "\n",
    "anim = animation.FuncAnimation(fig,animate,interval=5)"
   ]
  },
  {
   "cell_type": "markdown",
   "metadata": {},
   "source": [
    "Build Model RDMs based on trial structure"
   ]
  },
  {
   "cell_type": "code",
   "execution_count": 6,
   "metadata": {},
   "outputs": [
    {
     "name": "stdout",
     "output_type": "stream",
     "text": [
      "{1: 1, 6: 1, 11: 1, 16: 1, 21: 1, 26: 1, 31: 1, 36: 1, 41: 1, 46: 1, 51: 1, 56: 1, 61: 1, 66: 1, 71: 1, 76: 1, 81: 1, 86: 1, 91: 1, 96: 1, 101: 1, 106: 1, 111: 1, 116: 1, 121: 1, 2: 2, 7: 2, 12: 2, 17: 2, 22: 2, 27: 2, 32: 2, 37: 2, 42: 2, 47: 2, 52: 2, 57: 2, 62: 2, 67: 2, 72: 2, 77: 2, 82: 2, 87: 2, 92: 2, 97: 2, 102: 2, 107: 2, 112: 2, 117: 2, 122: 2, 3: 3, 8: 3, 13: 3, 18: 3, 23: 3, 28: 3, 33: 3, 38: 3, 43: 3, 48: 3, 53: 3, 58: 3, 63: 3, 68: 3, 73: 3, 78: 3, 83: 3, 88: 3, 93: 3, 98: 3, 103: 3, 108: 3, 113: 3, 118: 3, 123: 3, 4: 4, 9: 4, 14: 4, 19: 4, 24: 4, 29: 4, 34: 4, 39: 4, 44: 4, 49: 4, 54: 4, 59: 4, 64: 4, 69: 4, 74: 4, 79: 4, 84: 4, 89: 4, 94: 4, 99: 4, 104: 4, 109: 4, 114: 4, 119: 4, 124: 4, 5: 5, 10: 5, 15: 5, 20: 5, 25: 5, 30: 5, 35: 5, 40: 5, 45: 5, 50: 5, 55: 5, 60: 5, 65: 5, 70: 5, 75: 5, 80: 5, 85: 5, 90: 5, 95: 5, 100: 5, 105: 5, 110: 5, 115: 5, 120: 5, 125: 5}\n"
     ]
    }
   ],
   "source": [
    "#these three helper functions generate trial codes for the (5 actors x 5 expr x 5 views)\n",
    "#input: number 1-5 representing actor, expression or view code\n",
    "#output: list of all trial codes correspoding to that actor, expression or view\n",
    "\n",
    "#these functions are used as arguments (trialcode_func) for later functions build_trial_key and build_model_rdm\n",
    "\n",
    "def get_trials_by_expression(exp_code):\n",
    "    trial_codes = []\n",
    "    start_code = (exp_code*5) - 4\n",
    "    \n",
    "    for i in range(start_code,125,25):\n",
    "        for j in range(i,i+5):\n",
    "            trial_codes.append(j)\n",
    "    return trial_codes\n",
    "\n",
    "def get_trials_by_id(actor_code):\n",
    "    start_code = (actor_code * 25) - 24\n",
    "    return [i for i in range(start_code,start_code+25)]\n",
    "\n",
    "def get_trials_by_view(view_code):\n",
    "    return [i for i in range(view_code, 126,5)]\n",
    "\n",
    "\n",
    "#helper function for building model rdms\n",
    "def build_trial_key(trialcode_func):\n",
    "    #takes in one of the three functions above and returns a dict mapping each trial code to its corresponding id, expression, or view code\n",
    "    key = {}\n",
    "    for i in range(5):\n",
    "        codes = (trialcode_func(i+1))\n",
    "        #print(codes)\n",
    "        \n",
    "        for code in codes:\n",
    "            key[code] = i+1\n",
    "\n",
    "    return key\n",
    "\n",
    "print(build_trial_key(get_trials_by_view))"
   ]
  },
  {
   "cell_type": "code",
   "execution_count": 14,
   "metadata": {},
   "outputs": [],
   "source": [
    "#build a model rdm for each condition\n",
    "\n",
    "def build_model_rdm(trialcode_func):\n",
    "\n",
    "    #build the key linking trial codes to exp/id/view codes\n",
    "    key = build_trial_key(trialcode_func)\n",
    "\n",
    "    n = len(key)\n",
    "\n",
    "    #initialize an empty numpy array size 125x125\n",
    "    rdm = np.full((n,n),np.nan)\n",
    "\n",
    "    #iterate through each row and column number to build the model rdm\n",
    "    for r in range(n):\n",
    "\n",
    "        for c in range(n):\n",
    "\n",
    "            #if the two trial codes map to the same expression, id or view, fill this entry with 0\n",
    "            if key[r+1] == key[c+1]:\n",
    "                rdm[r,c] = 0\n",
    "            #if different, fill this entry with a value of 1\n",
    "            else:\n",
    "                rdm[r,c] = 1\n",
    "\n",
    "    return rdm\n",
    "\n",
    "rdm_view = build_model_rdm(get_trials_by_view)\n",
    "rdm_id = build_model_rdm(get_trials_by_id)\n",
    "rdm_exp = build_model_rdm(get_trials_by_expression)\n"
   ]
  },
  {
   "cell_type": "code",
   "execution_count": 57,
   "metadata": {},
   "outputs": [],
   "source": [
    "#plot the 3 model RDM as subplots on a single figure\n",
    "fig,ax = plt.subplots(1,3)\n",
    "\n",
    "ax[0].imshow(rdm_id)\n",
    "ax[0].set_title('Identity')\n",
    "ax[1].imshow(rdm_exp)\n",
    "ax[1].set_title('Expression')\n",
    "ax[2].imshow(rdm_view)\n",
    "ax[2].set_title('Viewpoint')\n",
    "\n",
    "#adjust the spacing between subplots to avoid overlap\n",
    "fig.tight_layout()"
   ]
  },
  {
   "cell_type": "markdown",
   "metadata": {},
   "source": [
    "Compute similarity"
   ]
  },
  {
   "cell_type": "code",
   "execution_count": 40,
   "metadata": {},
   "outputs": [
    {
     "name": "stdout",
     "output_type": "stream",
     "text": [
      "1081\n"
     ]
    }
   ],
   "source": [
    "#function to correlate one model rdm with every timepoint of the meg rdm\n",
    "#return a 1x1081 list: timecourse of Spearman correlations\n",
    "def rsa(model, meg):\n",
    "\n",
    "    timecourse = []\n",
    "\n",
    "    #extract the upper triangle from the model rdm and flatten it, mask values of 0 so they aren't included in the correlation\n",
    "    model_flat = ma.masked_equal(np.ndarray.flatten(np.triu(model,k=1)),0)\n",
    "\n",
    "    #iterate through each timepoint\n",
    "    for i in range(len(meg[0,0])): # \n",
    "\n",
    "        #extract the meg rdm for that timepoint\n",
    "        slice = meg[:,:,i]\n",
    "\n",
    "        #extract the upper triangle and flatten the meg rdm\n",
    "        slice_flat = ma.masked_equal(np.ndarray.flatten(np.triu(slice,k=1)),0)\n",
    "\n",
    "        #compute Spearman's R between the model and meg \n",
    "        #not keeping track of p right now but can be changed\n",
    "        correlation,p = stats.spearmanr(model_flat,slice_flat)\n",
    "\n",
    "        timecourse.append(correlation)\n",
    "\n",
    "    return timecourse\n",
    "\n",
    "\n",
    "rsa_view = rsa(rdm_view,rdm_meg)\n",
    "rsa_id = rsa(rdm_id,rdm_meg)\n",
    "rsa_exp = rsa(rdm_exp,rdm_meg)\n",
    "print(len(rsa_id))\n",
    "\n"
   ]
  },
  {
   "cell_type": "code",
   "execution_count": 62,
   "metadata": {},
   "outputs": [
    {
     "data": {
      "text/plain": [
       "<matplotlib.legend.Legend at 0x7fb99586b100>"
      ]
     },
     "execution_count": 62,
     "metadata": {},
     "output_type": "execute_result"
    }
   ],
   "source": [
    "#plot results of rsa\n",
    "#set ranges for x and y axes\n",
    "xmin = -0.1\n",
    "xmax = 0.8\n",
    "ymin = 0.75\n",
    "ymax = 0.85\n",
    "axes = [xmin,xmax,ymin,ymax]\n",
    "\n",
    "#generate evenly spaced values for the x-axis\n",
    "nsamples = len(rsa_view)\n",
    "xvals = np.linspace(xmin,xmax,nsamples)\n",
    "\n",
    "\n",
    "plt.plot(xvals,rsa_exp,label='expression')\n",
    "plt.plot(xvals,rsa_id,label='identity')\n",
    "plt.plot(xvals,rsa_view,label='viewpoint')\n",
    "plt.axis(axes)\n",
    "plt.title('Timecourse of Spearman\\'s correlations from RSA')\n",
    "plt.xlabel('time (s)')\n",
    "plt.ylabel('Spearman\\'s R')\n",
    "plt.legend()"
   ]
  }
 ],
 "metadata": {
  "interpreter": {
   "hash": "706b82a59576f7a87e4e537fcda88bdb055292a5eca481461175bf0789fe9b90"
  },
  "kernelspec": {
   "display_name": "Python 3.10.0 ('mne')",
   "language": "python",
   "name": "python3"
  },
  "language_info": {
   "codemirror_mode": {
    "name": "ipython",
    "version": 3
   },
   "file_extension": ".py",
   "mimetype": "text/x-python",
   "name": "python",
   "nbconvert_exporter": "python",
   "pygments_lexer": "ipython3",
   "version": "3.8.8"
  },
  "orig_nbformat": 4
 },
 "nbformat": 4,
 "nbformat_minor": 2
}
