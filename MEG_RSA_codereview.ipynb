{
 "cells": [
  {
   "cell_type": "code",
   "execution_count": 1,
   "metadata": {},
   "outputs": [],
   "source": [
    "import numpy as np\n",
    "import numpy.ma as ma\n",
    "import matplotlib.pyplot as plt\n",
    "import pickle\n",
    "from itertools import combinations\n",
    "from scipy import stats"
   ]
  },
  {
   "cell_type": "code",
   "execution_count": 2,
   "metadata": {},
   "outputs": [],
   "source": [
    "#read in decoding accuracy scores\n",
    "\n",
    "#set up directory to read in decoding scores\n",
    "subjdate = '20211119'\n",
    "S = 'S03'\n",
    "rootdir = '/misc/data12/sjapee/Prosopagnosia-Emotion/MEG'\n",
    "data_dir = rootdir + '/MEGData/' + subjdate\n",
    "out_dir = data_dir + '/plots'\n",
    "in_filepath = data_dir + '/' + S + '_IMbased_allscores.pkl'\n",
    "\n",
    "#load scores into all_scores, a dictionary of the following format: \n",
    "# key: tuple of two trial codes (1,2) representing a pair of images\n",
    "# value: a 1x1081 list of decoding scores for each timepoint\n",
    "in_file = open(in_filepath,'rb')\n",
    "all_scores = pickle.load(in_file)\n",
    "in_file.close()"
   ]
  },
  {
   "cell_type": "code",
   "execution_count": 3,
   "metadata": {},
   "outputs": [
    {
     "name": "stdout",
     "output_type": "stream",
     "text": [
      "0.65\n"
     ]
    },
    {
     "data": {
      "text/plain": [
       "<matplotlib.colorbar.Colorbar at 0x7fbf608c2a10>"
      ]
     },
     "execution_count": 3,
     "metadata": {},
     "output_type": "execute_result"
    }
   ],
   "source": [
    "%matplotlib qt\n",
    "#convert the dictionary to a 3D numpy array (MEG RDM)\n",
    "#each key dictates the row and column number in the array\n",
    "#only fills in the upper triangle, off diagonal, remaining entries = 0\n",
    "\n",
    "nrows = 125\n",
    "nsamples = len(all_scores[1,2])\n",
    "\n",
    "rdm_meg = np.zeros((nrows,nrows,nsamples))\n",
    "\n",
    "for key,value in all_scores.items():\n",
    "\n",
    "    row = key[0] - 1\n",
    "    col = key[1] - 1\n",
    "\n",
    "    rdm_meg[row,col] = value\n",
    "\n",
    "print(rdm_meg[0,124,0])\n",
    "\n",
    "\n",
    "plt.imshow(rdm_meg[:,:,540])\n",
    "plt.title('MEG RDM at timepoint 540 (~350 ms)')\n",
    "plt.colorbar()\n",
    "\n"
   ]
  },
  {
   "cell_type": "code",
   "execution_count": 4,
   "metadata": {},
   "outputs": [],
   "source": [
    "#helper function for building model rdms\n",
    "def build_trial_key(trialcode_func):\n",
    "    #takes in one of the three functions below and returns a dict mapping each trial code to its corresponding id, expression, or view code\n",
    "    key = {}\n",
    "    for i in range(5):\n",
    "        codes = (trialcode_func(i+1))\n",
    "        #print(codes)\n",
    "        \n",
    "        for code in codes:\n",
    "            key[code] = i+1\n",
    "\n",
    "    return key\n",
    "\n",
    "\n",
    "#these are the three trial code functions used as arguments (trialcode_func) for other helper functions build_trial_key and build_model_rdm\n",
    "\n",
    "#sequences of numbers produces are based on the trial code structure of the stimuli (5 actors x 5 expr x 5 views)\n",
    "def get_trials_by_expression(exp_code):\n",
    "    \n",
    "    trial_codes = []\n",
    "    start_code = (exp_code*5) - 4\n",
    "    \n",
    "    for i in range(start_code,125,25):\n",
    "        for j in range(i,i+5):\n",
    "            trial_codes.append(j)\n",
    "    return trial_codes\n",
    "\n",
    "def get_trials_by_id(actor_code):\n",
    "    start_code = (actor_code * 25) - 24\n",
    "    return [i for i in range(start_code,start_code+25)]\n",
    "\n",
    "def get_trials_by_view(view_code):\n",
    "    return [i for i in range(view_code, 126,5)]\n",
    "\n",
    "#print(build_trial_key(get_trials_by_view))"
   ]
  },
  {
   "cell_type": "code",
   "execution_count": 5,
   "metadata": {},
   "outputs": [],
   "source": [
    "#build a model rdm for each condition\n",
    "\n",
    "def build_model_rdm(trialcode_func):\n",
    "\n",
    "    #build the key linking trial codes to exp/id/view codes\n",
    "    key = build_trial_key(trialcode_func)\n",
    "\n",
    "    n = len(key)\n",
    "\n",
    "    #initialize an empty numpy array\n",
    "    rdm = np.full((n,n),np.nan)\n",
    "\n",
    "    #iterate through each row and column number to build the model rdm\n",
    "    for r in range(n):\n",
    "\n",
    "        for c in range(n):\n",
    "\n",
    "            #if the two trial codes map to the same expression, id or view, fill this entry with 0\n",
    "            if key[r+1] == key[c+1]:\n",
    "                rdm[r,c] = 0\n",
    "            #if different, fill this entry with a value of 1\n",
    "            else:\n",
    "                rdm[r,c] = 1\n",
    "\n",
    "    return rdm\n",
    "\n",
    "rdm_view = build_model_rdm(get_trials_by_view)\n",
    "rdm_id = build_model_rdm(get_trials_by_id)\n",
    "rdm_exp = build_model_rdm(get_trials_by_expression)\n"
   ]
  },
  {
   "cell_type": "code",
   "execution_count": 44,
   "metadata": {},
   "outputs": [
    {
     "name": "stdout",
     "output_type": "stream",
     "text": [
      "(125, 125)\n",
      "1081\n"
     ]
    }
   ],
   "source": [
    "print(rdm_meg[:,:,1].shape)\n",
    "print(len(rdm_meg[0,0]))"
   ]
  },
  {
   "cell_type": "code",
   "execution_count": 6,
   "metadata": {},
   "outputs": [
    {
     "name": "stdout",
     "output_type": "stream",
     "text": [
      "1081\n"
     ]
    }
   ],
   "source": [
    "#correlate one model rdm with every timepoint of the meg rdm\n",
    "#return a 1x1081 matrix: timecourse of Spearman correlations\n",
    "def rsa(model, meg):\n",
    "\n",
    "    timecourse = []\n",
    "\n",
    "    #extract the upper triangle from the model rdm and flatten it, mask values of 0\n",
    "    model_flat = ma.masked_equal(np.ndarray.flatten(np.triu(model,k=1)),0)\n",
    "\n",
    "    #iterate through each timepoint\n",
    "    for i in range(len(meg[0,0])): # \n",
    "\n",
    "        #extract the meg rdm for that timepoint\n",
    "        slice = meg[:,:,i]\n",
    "\n",
    "        slice_flat = ma.masked_equal(np.ndarray.flatten(slice),0)\n",
    "        #print(model_flat.mean())\n",
    "        #print(slice_flat.mean())\n",
    "        correlation,p = stats.spearmanr(model_flat,slice_flat)\n",
    "\n",
    "        timecourse.append(correlation)\n",
    "\n",
    "    return timecourse\n",
    "\n",
    "\n",
    "rsa_view = rsa(rdm_view,rdm_meg)\n",
    "rsa_id = rsa(rdm_id,rdm_meg)\n",
    "rsa_exp = rsa(rdm_exp,rdm_meg)\n",
    "print(len(rsa_id))\n",
    "#print(rsa(rdm_id,rdm_meg))    \n",
    "\n"
   ]
  },
  {
   "cell_type": "code",
   "execution_count": 7,
   "metadata": {},
   "outputs": [
    {
     "data": {
      "text/plain": [
       "<matplotlib.legend.Legend at 0x7fbf408b7be0>"
      ]
     },
     "execution_count": 7,
     "metadata": {},
     "output_type": "execute_result"
    }
   ],
   "source": [
    "#plot results of rsa\n",
    "#set ranges for x and y axes\n",
    "xmin = -0.1\n",
    "xmax = 0.8\n",
    "ymin = 0.42\n",
    "ymax = 0.57\n",
    "axes = [xmin,xmax,ymin,ymax]\n",
    "nsamples = len(rsa_view)\n",
    "xvals = np.linspace(xmin,xmax,nsamples)\n",
    "\n",
    "\n",
    "plt.plot(xvals,rsa_exp,label='expression')\n",
    "plt.plot(xvals,rsa_id,label='identity')\n",
    "plt.plot(xvals,rsa_view,label='viewpoint')\n",
    "#plt.axis(axes)\n",
    "plt.title('Spearmans correlations from RSA')\n",
    "plt.legend()"
   ]
  }
 ],
 "metadata": {
  "interpreter": {
   "hash": "706b82a59576f7a87e4e537fcda88bdb055292a5eca481461175bf0789fe9b90"
  },
  "kernelspec": {
   "display_name": "Python 3.10.0 ('mne')",
   "language": "python",
   "name": "python3"
  },
  "language_info": {
   "codemirror_mode": {
    "name": "ipython",
    "version": 3
   },
   "file_extension": ".py",
   "mimetype": "text/x-python",
   "name": "python",
   "nbconvert_exporter": "python",
   "pygments_lexer": "ipython3",
   "version": "3.10.0"
  },
  "orig_nbformat": 4
 },
 "nbformat": 4,
 "nbformat_minor": 2
}
